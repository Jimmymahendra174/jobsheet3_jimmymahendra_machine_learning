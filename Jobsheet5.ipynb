{
 "cells": [
  {
   "cell_type": "code",
   "execution_count": 7,
   "metadata": {},
   "outputs": [
    {
     "name": "stdout",
     "output_type": "stream",
     "text": [
      "Data Awal:\n",
      "      Name   Age         City\n",
      "0    Jimmy  20.0         Sago\n",
      "1     Arif  21.0       Painan\n",
      "2     Rudi  21.0        Lumpo\n",
      "3  Maulana  22.0       Bayang\n",
      "4   Taufiq   NaN      Airpura\n",
      "5      NaN  50.0  Los Angeles\n",
      "\n",
      "Data Setelah Cleaning:\n",
      "      Name   Age     City\n",
      "0    Jimmy  20.0     Sago\n",
      "1     Arif  21.0   Painan\n",
      "2     Rudi  21.0    Lumpo\n",
      "3  Maulana  22.0   Bayang\n",
      "4   Taufiq  21.0  Airpura\n"
     ]
    }
   ],
   "source": [
    "# 1. Contoh data cleaning\n",
    "# A. Missing values\n",
    "import pandas as pd\n",
    "import numpy as np\n",
    "\n",
    "# Membuat dataframe contoh\n",
    "data = {\n",
    "    'Name': ['Jimmy', 'Arif', 'Rudi', 'Maulana', 'Taufiq', np.nan],\n",
    "    'Age': [20, 21, 21, 22, np.nan, 50],\n",
    "    'City': ['Sago', 'Painan', 'Lumpo', 'Bayang', 'Airpura', 'Los Angeles']\n",
    "}\n",
    "\n",
    "df = pd.DataFrame(data)\n",
    "\n",
    "# Menampilkan data awal\n",
    "print(\"Data Awal:\")\n",
    "print(df)\n",
    "\n",
    "# Menghapus duplikat\n",
    "df = df.drop_duplicates()\n",
    "\n",
    "# Menangani missing values dengan mengisi nilai median untuk kolom numerik\n",
    "df['Age'] = df['Age'].fillna(df['Age'].median())\n",
    "\n",
    "# Menghapus baris yang mengandung missing values di kolom 'Name'\n",
    "df = df.dropna(subset=['Name'])\n",
    "\n",
    "# Menampilkan data setelah cleaning\n",
    "print(\"\\nData Setelah Cleaning:\")\n",
    "print(df)"
   ]
  },
  {
   "cell_type": "code",
   "execution_count": 8,
   "metadata": {},
   "outputs": [
    {
     "name": "stdout",
     "output_type": "stream",
     "text": [
      "Data Awal:\n",
      "      Name   Age         City\n",
      "0    Jimmy  20.0         Sago\n",
      "1     Arif  21.0       Painan\n",
      "2     Rudi  21.0        Lumpo\n",
      "3  Maulana  22.0       Bayang\n",
      "4   Taufiq   NaN      Airpura\n",
      "5      NaN  50.0  Los Angeles\n",
      "\n",
      "Jumlah data yang terduplikat: 0\n",
      "\n",
      "Data Setelah Cleaning:\n",
      "      Name   Age         City\n",
      "0    Jimmy  20.0         Sago\n",
      "1     Arif  21.0       Painan\n",
      "2     Rudi  21.0        Lumpo\n",
      "3  Maulana  22.0       Bayang\n",
      "4   Taufiq   NaN      Airpura\n",
      "5      NaN  50.0  Los Angeles\n",
      "\n",
      "Jumlah data yang terduplikat: 0\n"
     ]
    }
   ],
   "source": [
    "# 1. Contoh data cleaning\n",
    "# B. Meghapus Duplikat\n",
    "import pandas as pd\n",
    "import numpy as np\n",
    "\n",
    "# Membuat dataframe contoh\n",
    "data = {\n",
    "    'Name': ['Jimmy', 'Arif', 'Rudi', 'Maulana', 'Taufiq', np.nan],\n",
    "    'Age': [20, 21, 21, 22, np.nan, 50],\n",
    "    'City': ['Sago', 'Painan', 'Lumpo', 'Bayang', 'Airpura', 'Los Angeles']\n",
    "}\n",
    "\n",
    "df = pd.DataFrame(data)\n",
    "\n",
    "# Menampilkan data awal\n",
    "print(\"Data Awal:\")\n",
    "print(df)\n",
    "\n",
    "# Identifikasi duplikat\n",
    "duplicate_count = (df.duplicated().sum())\n",
    "print(f\"\\nJumlah data yang terduplikat: {duplicate_count}\")\n",
    "# Menghapus duplikat\n",
    "df.drop_duplicates(inplace=True)\n",
    "\n",
    "# Menampilkan data setelah cleaning\n",
    "print(\"\\nData Setelah Cleaning:\")\n",
    "print(df)\n",
    "duplicate_count = (df.duplicated().sum())\n",
    "print(f\"\\nJumlah data yang terduplikat: {duplicate_count}\")"
   ]
  },
  {
   "cell_type": "code",
   "execution_count": 9,
   "metadata": {},
   "outputs": [
    {
     "name": "stdout",
     "output_type": "stream",
     "text": [
      "Outliers:\n",
      "   Name   Age         City\n",
      "5  NaN  50.0  Los Angeles\n"
     ]
    },
    {
     "name": "stderr",
     "output_type": "stream",
     "text": [
      "C:\\Users\\jimmy\\AppData\\Local\\Temp\\ipykernel_17868\\713294089.py:34: FutureWarning: A value is trying to be set on a copy of a DataFrame or Series through chained assignment using an inplace method.\n",
      "The behavior will change in pandas 3.0. This inplace method will never work because the intermediate object on which we are setting values always behaves as a copy.\n",
      "\n",
      "For example, when doing 'df[col].method(value, inplace=True)', try using 'df.method({col: value}, inplace=True)' or df[col] = df[col].method(value) instead, to perform the operation inplace on the original object.\n",
      "\n",
      "\n",
      "  df['Age'].fillna(df['Age'].median(), inplace=True)\n",
      "C:\\Users\\jimmy\\AppData\\Local\\Temp\\ipykernel_17868\\713294089.py:35: FutureWarning: A value is trying to be set on a copy of a DataFrame or Series through chained assignment using an inplace method.\n",
      "The behavior will change in pandas 3.0. This inplace method will never work because the intermediate object on which we are setting values always behaves as a copy.\n",
      "\n",
      "For example, when doing 'df[col].method(value, inplace=True)', try using 'df.method({col: value}, inplace=True)' or df[col] = df[col].method(value) instead, to perform the operation inplace on the original object.\n",
      "\n",
      "\n",
      "  df['Name'].fillna('Unknown', inplace=True)\n"
     ]
    }
   ],
   "source": [
    "# 1. Contoh data cleansing\n",
    "# C. Menangani Outliers\n",
    "\n",
    "# Langkah 1: Membuat DataFrame\n",
    "import pandas as pd\n",
    "import numpy as np\n",
    "data = {\n",
    "'Name': ['Jimmy', 'Arif', 'Rudi', 'Maulana', 'Taufiq', np.nan],\n",
    "    'Age': [20, 21, 21, 22, np.nan, 50],\n",
    "    'City': ['Sago', 'Painan', 'Lumpo', 'Bayang', 'Airpura', 'Los Angeles']\n",
    "}\n",
    "df = pd.DataFrame(data)\n",
    "# Langkah 2: Identifikasi Outliers\n",
    "# Outliers dapat diidentifikasi menggunakan berbagai metode, salah satu yang umum adalah menggunakan Z-score atau IQR (Interquartile Range).\n",
    "# Di sini, kita akan menggunakan IQR untuk mendeteksi outliers.\n",
    "# Menghitung IQR\n",
    "Q1 = df['Age'].quantile(0.25)\n",
    "Q3 = df['Age'].quantile(0.75)\n",
    "IQR = Q3 - Q1\n",
    "# Menentukan batas bawah dan atas untuk outliers\n",
    "lower_bound = Q1 - 1.5 * IQR\n",
    "upper_bound = Q3 + 1.5 * IQR\n",
    "# Menandai outliers\n",
    "outliers = df[(df['Age'] < lower_bound) | (df['Age'] > upper_bound)]\n",
    "print(\"Outliers:\\n\", outliers)\n",
    "# Langkah 3: Menangani Outliers\n",
    "# # Menghapus outliers\n",
    "df_no_outliers = df[(df['Age'] >= lower_bound) & (df['Age'] <= upper_bound)]\n",
    "# Mengganti outliers dengan nilai median\n",
    "median_age = df['Age'].median()\n",
    "df['Age'] = np.where((df['Age'] < lower_bound) | (df['Age'] > upper_bound),\n",
    "median_age, df['Age'])\n",
    "# Mengisi missing values dengan median\n",
    "df['Age'].fillna(df['Age'].median(), inplace=True)\n",
    "df['Name'].fillna('Unknown', inplace=True)"
   ]
  },
  {
   "cell_type": "code",
   "execution_count": 11,
   "metadata": {},
   "outputs": [
    {
     "name": "stdout",
     "output_type": "stream",
     "text": [
      "   City_Airpura  City_Bayang  City_Los Angeles  City_Lumpo  City_Painan  \\\n",
      "0         False        False             False       False        False   \n",
      "1         False        False             False       False         True   \n",
      "2         False        False             False        True        False   \n",
      "3         False         True             False       False        False   \n",
      "4          True        False             False       False        False   \n",
      "5         False        False              True       False        False   \n",
      "\n",
      "   City_Sago  \n",
      "0       True  \n",
      "1      False  \n",
      "2      False  \n",
      "3      False  \n",
      "4      False  \n",
      "5      False  \n"
     ]
    }
   ],
   "source": [
    "# 1. Contoh data Cleansing\n",
    "# D. Mengubah data Kategorikal ke Numerik\n",
    "# Contoh: misalnya, kita memiliki dataset dengan kolom \"City\" yang berisi data kategorikal:\n",
    "import pandas as pd\n",
    "data = {'City': ['Sago', 'Painan', 'Lumpo', 'Bayang', 'Airpura', 'Los Angeles']}\n",
    "df = pd.DataFrame(data)\n",
    "# One-Hot Encoding\n",
    "df_one_hot = pd.get_dummies(df, columns=['City'])\n",
    "print(df_one_hot)"
   ]
  },
  {
   "cell_type": "code",
   "execution_count": 12,
   "metadata": {},
   "outputs": [
    {
     "name": "stdout",
     "output_type": "stream",
     "text": [
      "Data Awal:\n",
      "      Name   Age         City\n",
      "0    Jimmy  20.0         Sago\n",
      "1     Arif  21.0       Painan\n",
      "2     Rudi  21.0        Lumpo\n",
      "3  Maulana  22.0       Bayang\n",
      "4   Taufiq   NaN      Airpura\n",
      "5      NaN  50.0  Los Angeles\n",
      "\n",
      "Data Setelah Menangani Nilai Tidak Valid:\n",
      "      Name   Age         City\n",
      "0    Jimmy  20.0         Sago\n",
      "1     Arif  21.0       Painan\n",
      "2     Rudi  21.0        Lumpo\n",
      "3  Maulana  22.0       Bayang\n",
      "4   Taufiq  21.0      Airpura\n",
      "5  Unknown  50.0  Los Angeles\n"
     ]
    }
   ],
   "source": [
    "# 1. Contoh data Cleansing\n",
    "# E. Menangani Data tidak Valid\n",
    "\n",
    "import pandas as pd\n",
    "import numpy as np\n",
    "data = {\n",
    "'Name': ['Jimmy', 'Arif', 'Rudi', 'Maulana', 'Taufiq', np.nan],\n",
    "    'Age': [20, 21, 21, 22, np.nan, 50],\n",
    "    'City': ['Sago', 'Painan', 'Lumpo', 'Bayang', 'Airpura', 'Los Angeles']\n",
    "}\n",
    "df = pd.DataFrame(data)\n",
    "# Identifikasi nilai tidak valid\n",
    "\n",
    "print(\"Data Awal:\")\n",
    "print(df)\n",
    "# Mengubah nilai 'Age' yang tidak valid menjadi NaN\n",
    "df['Age'] = pd.to_numeric(df['Age'], errors='coerce')\n",
    "# Mengisi nilai 'Age' yang hilang atau tidak valid dengan median\n",
    "df['Age'] = df['Age'].fillna(df['Age'].median())\n",
    "# Mengisi nilai 'Name' yang hilang dengan 'Unknown'\n",
    "df['Name'] = df['Name'].fillna('Unknown')\n",
    "print(\"\\nData Setelah Menangani Nilai Tidak Valid:\")\n",
    "print(df)"
   ]
  },
  {
   "cell_type": "code",
   "execution_count": 14,
   "metadata": {},
   "outputs": [
    {
     "name": "stdout",
     "output_type": "stream",
     "text": [
      "Data Asli:\n",
      "    Age  Salary\n",
      "0  20.0   50000\n",
      "1  21.0   60000\n",
      "2  21.0   70000\n",
      "3  22.0   80000\n",
      "4  21.0   90000\n",
      "5  50.0  100000\n",
      "\n",
      "Min-Max Scaled Data:\n",
      "        Age  Salary\n",
      "0  0.000000     0.0\n",
      "1  0.033333     0.2\n",
      "2  0.033333     0.4\n",
      "3  0.066667     0.6\n",
      "4  0.033333     0.8\n",
      "5  1.000000     1.0\n",
      "\n",
      "Standardized Data:\n",
      "        Age   Salary\n",
      "0 -0.538972 -1.46385\n",
      "1 -0.446577 -0.87831\n",
      "2 -0.446577 -0.29277\n",
      "3 -0.354182  0.29277\n",
      "4 -0.446577  0.87831\n",
      "5  2.232884  1.46385\n"
     ]
    },
    {
     "name": "stderr",
     "output_type": "stream",
     "text": [
      "C:\\Users\\jimmy\\AppData\\Local\\Temp\\ipykernel_17868\\226649772.py:14: FutureWarning: A value is trying to be set on a copy of a DataFrame or Series through chained assignment using an inplace method.\n",
      "The behavior will change in pandas 3.0. This inplace method will never work because the intermediate object on which we are setting values always behaves as a copy.\n",
      "\n",
      "For example, when doing 'df[col].method(value, inplace=True)', try using 'df.method({col: value}, inplace=True)' or df[col] = df[col].method(value) instead, to perform the operation inplace on the original object.\n",
      "\n",
      "\n",
      "  df['Age'].fillna(df['Age'].median(), inplace=True)\n"
     ]
    }
   ],
   "source": [
    "import pandas as pd\n",
    "import numpy as np\n",
    "from sklearn.preprocessing import MinMaxScaler, StandardScaler\n",
    "\n",
    "# Contoh dataset\n",
    "data = {\n",
    "    'Age': [20, 21, 21, 22, np.nan, 50],  # Pastikan ada np.nan agar bisa ditangani\n",
    "    'Salary': [50000, 60000, 70000, 80000, 90000, 100000]\n",
    "}\n",
    "\n",
    "df = pd.DataFrame(data)\n",
    "\n",
    "# Menangani missing values pada 'Age' dengan median\n",
    "df['Age'].fillna(df['Age'].median(), inplace=True)\n",
    "\n",
    "# Min-Max Scaling\n",
    "min_max_scaler = MinMaxScaler()\n",
    "df_min_max_scaled = pd.DataFrame(min_max_scaler.fit_transform(df), columns=df.columns)\n",
    "\n",
    "# Z-Score Normalization (Standardization)\n",
    "standard_scaler = StandardScaler()\n",
    "df_standard_scaled = pd.DataFrame(standard_scaler.fit_transform(df), columns=df.columns)\n",
    "\n",
    "# Menampilkan hasil\n",
    "print(\"Data Asli:\")\n",
    "print(df)\n",
    "\n",
    "print(\"\\nMin-Max Scaled Data:\")\n",
    "print(df_min_max_scaled)\n",
    "\n",
    "print(\"\\nStandardized Data:\")\n",
    "print(df_standard_scaled)\n"
   ]
  },
  {
   "cell_type": "code",
   "execution_count": 15,
   "metadata": {},
   "outputs": [
    {
     "name": "stdout",
     "output_type": "stream",
     "text": [
      "K-Fold Cross-Validation Scores: [nan nan nan nan nan]\n",
      "Mean Score: nan\n"
     ]
    },
    {
     "name": "stderr",
     "output_type": "stream",
     "text": [
      "C:\\Users\\jimmy\\AppData\\Local\\Packages\\PythonSoftwareFoundation.Python.3.11_qbz5n2kfra8p0\\LocalCache\\local-packages\\Python311\\site-packages\\sklearn\\metrics\\_regression.py:1211: UndefinedMetricWarning: R^2 score is not well-defined with less than two samples.\n",
      "  warnings.warn(msg, UndefinedMetricWarning)\n",
      "C:\\Users\\jimmy\\AppData\\Local\\Packages\\PythonSoftwareFoundation.Python.3.11_qbz5n2kfra8p0\\LocalCache\\local-packages\\Python311\\site-packages\\sklearn\\metrics\\_regression.py:1211: UndefinedMetricWarning: R^2 score is not well-defined with less than two samples.\n",
      "  warnings.warn(msg, UndefinedMetricWarning)\n",
      "C:\\Users\\jimmy\\AppData\\Local\\Packages\\PythonSoftwareFoundation.Python.3.11_qbz5n2kfra8p0\\LocalCache\\local-packages\\Python311\\site-packages\\sklearn\\metrics\\_regression.py:1211: UndefinedMetricWarning: R^2 score is not well-defined with less than two samples.\n",
      "  warnings.warn(msg, UndefinedMetricWarning)\n",
      "C:\\Users\\jimmy\\AppData\\Local\\Packages\\PythonSoftwareFoundation.Python.3.11_qbz5n2kfra8p0\\LocalCache\\local-packages\\Python311\\site-packages\\sklearn\\metrics\\_regression.py:1211: UndefinedMetricWarning: R^2 score is not well-defined with less than two samples.\n",
      "  warnings.warn(msg, UndefinedMetricWarning)\n",
      "C:\\Users\\jimmy\\AppData\\Local\\Packages\\PythonSoftwareFoundation.Python.3.11_qbz5n2kfra8p0\\LocalCache\\local-packages\\Python311\\site-packages\\sklearn\\metrics\\_regression.py:1211: UndefinedMetricWarning: R^2 score is not well-defined with less than two samples.\n",
      "  warnings.warn(msg, UndefinedMetricWarning)\n"
     ]
    }
   ],
   "source": [
    "from sklearn.model_selection import KFold, cross_val_score\n",
    "from sklearn.linear_model import LinearRegression\n",
    "import numpy as np\n",
    "# Contoh dataset\n",
    "X = np.array([[1, 2], [2, 3], [3, 4], [4, 5], [5, 6]])\n",
    "y = np.array([2, 3, 4, 5, 6])\n",
    "# Model\n",
    "model = LinearRegression()\n",
    "# K-Fold Cross-Validation\n",
    "kf = KFold(n_splits=5)\n",
    "scores = cross_val_score(model, X, y, cv=kf)\n",
    "print(\"K-Fold Cross-Validation Scores:\", scores)\n",
    "print(\"Mean Score:\", np.mean(scores))"
   ]
  },
  {
   "cell_type": "code",
   "execution_count": 17,
   "metadata": {},
   "outputs": [
    {
     "name": "stdout",
     "output_type": "stream",
     "text": [
      "K-Fold Cross-Validation Scores: [1.         1.         0.93333333 0.96666667 0.96666667]\n",
      "Mean Score: 0.9733333333333334\n"
     ]
    }
   ],
   "source": [
    "from sklearn.model_selection import KFold, cross_val_score\n",
    "from sklearn.linear_model import LogisticRegression\n",
    "from sklearn.datasets import load_iris\n",
    "\n",
    "# Load dataset\n",
    "iris = load_iris()\n",
    "X = iris.data\n",
    "y = iris.target\n",
    "\n",
    "# Model Logistic Regression\n",
    "model = LogisticRegression(max_iter=200)\n",
    "\n",
    "# K-Fold Cross-Validation\n",
    "kf = KFold(n_splits=5, shuffle=True, random_state=42)  # 5 folds dengan shuffle dan random state 42\n",
    "scores = cross_val_score(model, X, y, cv=kf, scoring='accuracy')\n",
    "\n",
    "# Menampilkan hasil\n",
    "print(\"K-Fold Cross-Validation Scores:\", scores)\n",
    "print(\"Mean Score:\", scores.mean())\n"
   ]
  },
  {
   "cell_type": "code",
   "execution_count": 18,
   "metadata": {},
   "outputs": [
    {
     "name": "stdout",
     "output_type": "stream",
     "text": [
      "Mean: 13.70\n",
      "95% Confidence Interval: (11.50 - 15.80)\n"
     ]
    }
   ],
   "source": [
    "import numpy as np\n",
    "\n",
    "# Data\n",
    "data = np.array([10, 15, 8, 12, 14, 20, 18, 16, 11, 13])\n",
    "\n",
    "# Bootstrap sampling\n",
    "n_samples = 1000\n",
    "bootstrap_means = np.empty(n_samples)\n",
    "\n",
    "for i in range(n_samples):\n",
    "    bootstrap_sample = np.random.choice(data, size=len(data), replace=True)\n",
    "    bootstrap_means[i] = np.mean(bootstrap_sample)\n",
    "\n",
    "# Confidence interval (95%)\n",
    "ci_lower = np.percentile(bootstrap_means, 2.5)\n",
    "ci_upper = np.percentile(bootstrap_means, 97.5)\n",
    "\n",
    "# Menampilkan hasil\n",
    "print(f\"Mean: {np.mean(data):.2f}\")\n",
    "print(f\"95% Confidence Interval: ({ci_lower:.2f} - {ci_upper:.2f})\")\n"
   ]
  },
  {
   "cell_type": "code",
   "execution_count": 19,
   "metadata": {},
   "outputs": [
    {
     "name": "stdout",
     "output_type": "stream",
     "text": [
      "Accuracy: 1.00\n",
      "Confusion Matrix:\n",
      " [[10  0  0]\n",
      " [ 0  9  0]\n",
      " [ 0  0 11]]\n"
     ]
    }
   ],
   "source": [
    "from sklearn.model_selection import train_test_split\n",
    "from sklearn.metrics import accuracy_score, confusion_matrix\n",
    "from sklearn.datasets import load_iris\n",
    "from sklearn.linear_model import LogisticRegression\n",
    "\n",
    "# Load dataset\n",
    "iris = load_iris()\n",
    "X = iris.data\n",
    "y = iris.target\n",
    "\n",
    "# Bagi dataset menjadi data pelatihan dan data pengujian (80% training, 20% testing)\n",
    "X_train, X_test, y_train, y_test = train_test_split(X, y, test_size=0.2, random_state=42)\n",
    "\n",
    "# Inisialisasi dan latih model\n",
    "model = LogisticRegression(max_iter=1000)\n",
    "model.fit(X_train, y_train)\n",
    "\n",
    "# Prediksi dengan data pengujian\n",
    "y_pred = model.predict(X_test)\n",
    "\n",
    "# Evaluasi kinerja model\n",
    "accuracy = accuracy_score(y_test, y_pred)\n",
    "conf_matrix = confusion_matrix(y_test, y_pred)\n",
    "\n",
    "# Menampilkan hasil\n",
    "print(f\"Accuracy: {accuracy:.2f}\")\n",
    "print(\"Confusion Matrix:\\n\", conf_matrix)\n"
   ]
  },
  {
   "cell_type": "code",
   "execution_count": null,
   "metadata": {},
   "outputs": [
    {
     "name": "stderr",
     "output_type": "stream",
     "text": [
      "[nltk_data] Downloading package movie_reviews to\n",
      "[nltk_data]     C:\\Users\\jimmy\\AppData\\Roaming\\nltk_data...\n"
     ]
    }
   ],
   "source": [
    "# Contoh Confusion Matrix di NLP\n",
    "\n",
    "# Impor library yang diperlukan\n",
    "import nltk\n",
    "from nltk.corpus import movie_reviews\n",
    "from sklearn.feature_extraction.text import TfidfVectorizer\n",
    "from sklearn.model_selection import train_test_split\n",
    "from sklearn.svm import LinearSVC\n",
    "from sklearn.metrics import confusion_matrix, classification_report\n",
    "\n",
    "# Unduh dataset sentimen ulasan film dari NLTK\n",
    "nltk.download('movie_reviews')\n",
    "\n",
    "# Ambil ulasan dan label dari dataset\n",
    "documents = [\n",
    "    (\" \".join(movie_reviews.words(fileid)), category)\n",
    "    for category in movie_reviews.categories()\n",
    "    for fileid in movie_reviews.fileids(category)\n",
    "]\n",
    "\n",
    "# Pisahkan teks ulasan dan label\n",
    "texts, labels = zip(*documents)\n",
    "\n",
    "# Ubah teks menjadi vektor fitur TF-IDF\n",
    "vectorizer = TfidfVectorizer(max_features=5000)\n",
    "X = vectorizer.fit_transform(texts)\n",
    "\n",
    "# Bagi dataset menjadi data pelatihan dan data pengujian (80% training, 20% testing)\n",
    "X_train, X_test, y_train, y_test = train_test_split(X, labels, test_size=0.2, random_state=42)\n",
    "\n",
    "# Inisialisasi dan latih model klasifikasi (Linear SVM)\n",
    "classifier = LinearSVC(dual=False)  # Mengatasi warning jika dataset besar\n",
    "classifier.fit(X_train, y_train)\n",
    "\n",
    "# Prediksi kelas pada data pengujian\n",
    "y_pred = classifier.predict(X_test)\n",
    "\n",
    "# Evaluasi model menggunakan confusion matrix\n",
    "conf_matrix = confusion_matrix(y_test, y_pred)\n",
    "print(\"Confusion Matrix:\\n\", conf_matrix)\n",
    "\n",
    "# Evaluasi model menggunakan classification report\n",
    "report = classification_report(y_test, y_pred)\n",
    "print(\"\\nClassification Report:\\n\", report)\n"
   ]
  }
 ],
 "metadata": {
  "kernelspec": {
   "display_name": "Python 3",
   "language": "python",
   "name": "python3"
  },
  "language_info": {
   "codemirror_mode": {
    "name": "ipython",
    "version": 3
   },
   "file_extension": ".py",
   "mimetype": "text/x-python",
   "name": "python",
   "nbconvert_exporter": "python",
   "pygments_lexer": "ipython3",
   "version": "3.11.9"
  }
 },
 "nbformat": 4,
 "nbformat_minor": 2
}
